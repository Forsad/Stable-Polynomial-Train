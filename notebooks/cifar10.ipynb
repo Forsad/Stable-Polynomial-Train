{
 "cells": [
  {
   "cell_type": "code",
   "execution_count": 1,
   "metadata": {},
   "outputs": [],
   "source": [
    "import os\n",
    "import sys\n",
    "project_root = os.path.abspath('../src')\n",
    "if project_root not in sys.path:\n",
    "    sys.path.insert(0, project_root)\n",
    "import wandb\n",
    "key = None # Fill in your own API key\n",
    "if key is not None:\n",
    "    wandb.login(key=key)\n",
    "    os.environ['WANDB_API_KEY'] = key\n",
    "os.environ[\"WANDB_NOTEBOOK_NAME\"] = \"cifar10.ipynb\""
   ]
  },
  {
   "cell_type": "code",
   "execution_count": 2,
   "metadata": {},
   "outputs": [
    {
     "name": "stdout",
     "output_type": "stream",
     "text": [
      "Thu May 22 21:28:51 2025       \n",
      "+-----------------------------------------------------------------------------------------+\n",
      "| NVIDIA-SMI 550.127.08             Driver Version: 550.127.08     CUDA Version: 12.4     |\n",
      "|-----------------------------------------+------------------------+----------------------+\n",
      "| GPU  Name                 Persistence-M | Bus-Id          Disp.A | Volatile Uncorr. ECC |\n",
      "| Fan  Temp   Perf          Pwr:Usage/Cap |           Memory-Usage | GPU-Util  Compute M. |\n",
      "|                                         |                        |               MIG M. |\n",
      "|=========================================+========================+======================|\n",
      "|   0  Tesla V100-SXM2-32GB           Off |   00000000:06:00.0 Off |                    0 |\n",
      "| N/A   37C    P0             72W /  300W |   14914MiB /  32768MiB |      0%      Default |\n",
      "|                                         |                        |                  N/A |\n",
      "+-----------------------------------------+------------------------+----------------------+\n",
      "                                                                                         \n",
      "+-----------------------------------------------------------------------------------------+\n",
      "| Processes:                                                                              |\n",
      "|  GPU   GI   CI        PID   Type   Process name                              GPU Memory |\n",
      "|        ID   ID                                                               Usage      |\n",
      "|=========================================================================================|\n",
      "+-----------------------------------------------------------------------------------------+\n"
     ]
    }
   ],
   "source": [
    "!nvidia-smi"
   ]
  },
  {
   "cell_type": "code",
   "execution_count": 3,
   "metadata": {},
   "outputs": [
    {
     "name": "stdout",
     "output_type": "stream",
     "text": [
      "Files already downloaded and verified\n",
      "Files already downloaded and verified\n",
      "Files already downloaded and verified\n"
     ]
    }
   ],
   "source": [
    "# train_set = SubsetSC(\"training\")\n",
    "# test_set = SubsetSC(\"testing\")\n",
    "# val_set = SubsetSC(\"validation\")\n",
    "from torchvision import transforms\n",
    "import torchvision.datasets as datasets\n",
    "from torch.utils.data import random_split\n",
    "import torch\n",
    "#Load cifar10 dataset\n",
    "# In the dataset loading cell, replace with:\n",
    "\n",
    "CIFAR10_TRAIN_MEAN = (0.5070751592371323, 0.48654887331495095, 0.4409178433670343)\n",
    "CIFAR10_TRAIN_STD = (0.2673342858792401, 0.2564384629170883, 0.27615047132568404)\n",
    "transform_train= transforms.Compose([\n",
    "    transforms.RandomCrop(32, padding=4),\n",
    "    transforms.RandomHorizontalFlip(),\n",
    "    transforms.ColorJitter(brightness=0.2, contrast=0.2),\n",
    "    transforms.RandomRotation(15),\n",
    "    transforms.ToTensor(),\n",
    "    transforms.Normalize(CIFAR10_TRAIN_MEAN, CIFAR10_TRAIN_STD)\n",
    "])\n",
    "\n",
    "transform_test = transforms.Compose([\n",
    "    transforms.ToTensor(),\n",
    "    transforms.Normalize(CIFAR10_TRAIN_MEAN, CIFAR10_TRAIN_STD)\n",
    "])\n",
    "# Note: In CIFAR100, the test_set and val_set are using the same data\n",
    "# This is because CIFAR100 only comes with train and test splits\n",
    "# For proper evaluation, we should create a validation set from the training data\n",
    "\n",
    "# Create a validation split from the training data\n",
    "train_set_full = datasets.CIFAR10(root='./data', train=True, download=True, transform=transform_train)\n",
    "\n",
    "total_size = len(train_set_full)\n",
    "train_size = int(0.8 * total_size)\n",
    "val_size = total_size - train_size\n",
    "\n",
    "val_dataset_full = datasets.CIFAR10(root='./data', train=True, download=True, transform=transform_test)\n",
    "\n",
    "# Now split both datasets with the same indices\n",
    "generator = torch.Generator().manual_seed(42)  # for reproducibility\n",
    "train_set, _ = torch.utils.data.random_split(train_set_full, [train_size, val_size], generator=generator)\n",
    "generator = torch.Generator().manual_seed(42) \n",
    "_, val_set = torch.utils.data.random_split(val_dataset_full, [train_size, val_size], generator=generator)\n",
    "test_set = datasets.CIFAR10(root='./data', train=False, download=True, transform=transform_test)\n",
    "\n"
   ]
  },
  {
   "cell_type": "code",
   "execution_count": 4,
   "metadata": {},
   "outputs": [
    {
     "name": "stdout",
     "output_type": "stream",
     "text": [
      "40000 10000 10000\n"
     ]
    }
   ],
   "source": [
    "print(len(train_set), len(test_set), len(val_set))"
   ]
  },
  {
   "cell_type": "code",
   "execution_count": null,
   "metadata": {},
   "outputs": [
    {
     "name": "stdout",
     "output_type": "stream",
     "text": [
      "B 35 samp_size 100 initialization least_square pol_degree 8\n",
      "B 35 samp_size 100 initialization least_square pol_degree 8\n",
      "B 35 samp_size 100 initialization least_square pol_degree 8\n",
      "B 35 samp_size 100 initialization least_square pol_degree 8\n",
      "B 35 samp_size 100 initialization least_square pol_degree 8\n",
      "B 35 samp_size 100 initialization least_square pol_degree 8\n",
      "B 35 samp_size 100 initialization least_square pol_degree 8\n",
      "B 35 samp_size 100 initialization least_square pol_degree 8\n",
      "B 35 samp_size 100 initialization least_square pol_degree 8\n",
      "B 35 samp_size 100 initialization least_square pol_degree 8\n",
      "B 35 samp_size 100 initialization least_square pol_degree 8\n",
      "B 35 samp_size 100 initialization least_square pol_degree 8\n",
      "B 35 samp_size 100 initialization least_square pol_degree 8\n",
      "B 35 samp_size 100 initialization least_square pol_degree 8\n"
     ]
    },
    {
     "name": "stdout",
     "output_type": "stream",
     "text": [
      "B 35 samp_size 100 initialization least_square pol_degree 8\n",
      "B 35 samp_size 100 initialization least_square pol_degree 8\n",
      "B 35 samp_size 100 initialization least_square pol_degree 8\n"
     ]
    },
    {
     "name": "stderr",
     "output_type": "stream",
     "text": [
      "GPU available: True (cuda), used: True\n",
      "TPU available: False, using: 0 TPU cores\n",
      "HPU available: False, using: 0 HPUs\n",
      "LOCAL_RANK: 0 - CUDA_VISIBLE_DEVICES: [0]\n",
      "\n",
      "  | Name           | Type             | Params | Mode \n",
      "------------------------------------------------------------\n",
      "0 | model          | ResNet18         | 11.2 M | train\n",
      "1 | base_criterion | CrossEntropyLoss | 0      | train\n",
      "2 | criterion      | CustomPolyLoss   | 0      | train\n",
      "------------------------------------------------------------\n",
      "11.2 M    Trainable params\n",
      "0         Non-trainable params\n",
      "11.2 M    Total params\n",
      "44.696    Total estimated model params size (MB)\n",
      "133       Modules in train mode\n",
      "0         Modules in eval mode\n"
     ]
    },
    {
     "data": {
      "application/vnd.jupyter.widget-view+json": {
       "model_id": "d2cd0f3724714f289ac996951b4b6947",
       "version_major": 2,
       "version_minor": 0
      },
      "text/plain": [
       "Sanity Checking: |          | 0/? [00:00<?, ?it/s]"
      ]
     },
     "metadata": {},
     "output_type": "display_data"
    },
    {
     "data": {
      "application/vnd.jupyter.widget-view+json": {
       "model_id": "aa535dc33acf46caa878f6abcd9a34e2",
       "version_major": 2,
       "version_minor": 0
      },
      "text/plain": [
       "Training: |          | 0/? [00:00<?, ?it/s]"
      ]
     },
     "metadata": {},
     "output_type": "display_data"
    },
    {
     "data": {
      "application/vnd.jupyter.widget-view+json": {
       "model_id": "66819f1905d84228a7c62e0d906939d8",
       "version_major": 2,
       "version_minor": 0
      },
      "text/plain": [
       "Validation: |          | 0/? [00:00<?, ?it/s]"
      ]
     },
     "metadata": {},
     "output_type": "display_data"
    },
    {
     "data": {
      "application/vnd.jupyter.widget-view+json": {
       "model_id": "3babb82704bc454cbc017369c193d954",
       "version_major": 2,
       "version_minor": 0
      },
      "text/plain": [
       "Validation: |          | 0/? [00:00<?, ?it/s]"
      ]
     },
     "metadata": {},
     "output_type": "display_data"
    },
    {
     "data": {
      "application/vnd.jupyter.widget-view+json": {
       "model_id": "9f353a85d36847e9b7c36cce644525ee",
       "version_major": 2,
       "version_minor": 0
      },
      "text/plain": [
       "Validation: |          | 0/? [00:00<?, ?it/s]"
      ]
     },
     "metadata": {},
     "output_type": "display_data"
    },
    {
     "data": {
      "application/vnd.jupyter.widget-view+json": {
       "model_id": "259f81ed40a542839e82834532ec201c",
       "version_major": 2,
       "version_minor": 0
      },
      "text/plain": [
       "Validation: |          | 0/? [00:00<?, ?it/s]"
      ]
     },
     "metadata": {},
     "output_type": "display_data"
    },
    {
     "data": {
      "application/vnd.jupyter.widget-view+json": {
       "model_id": "c1c9e5e3cc904cbf91ce84a6ec4070a2",
       "version_major": 2,
       "version_minor": 0
      },
      "text/plain": [
       "Validation: |          | 0/? [00:00<?, ?it/s]"
      ]
     },
     "metadata": {},
     "output_type": "display_data"
    },
    {
     "data": {
      "application/vnd.jupyter.widget-view+json": {
       "model_id": "abc1abda8e604554bd2778036ac46bd8",
       "version_major": 2,
       "version_minor": 0
      },
      "text/plain": [
       "Validation: |          | 0/? [00:00<?, ?it/s]"
      ]
     },
     "metadata": {},
     "output_type": "display_data"
    },
    {
     "data": {
      "application/vnd.jupyter.widget-view+json": {
       "model_id": "cc52ce91f8034712a404d63bd3567bdc",
       "version_major": 2,
       "version_minor": 0
      },
      "text/plain": [
       "Validation: |          | 0/? [00:00<?, ?it/s]"
      ]
     },
     "metadata": {},
     "output_type": "display_data"
    },
    {
     "data": {
      "application/vnd.jupyter.widget-view+json": {
       "model_id": "4bb82d164f0b4243b0ac2b6af4666985",
       "version_major": 2,
       "version_minor": 0
      },
      "text/plain": [
       "Validation: |          | 0/? [00:00<?, ?it/s]"
      ]
     },
     "metadata": {},
     "output_type": "display_data"
    },
    {
     "data": {
      "application/vnd.jupyter.widget-view+json": {
       "model_id": "07db4f0139f74f0d9fbac0c264cf17dd",
       "version_major": 2,
       "version_minor": 0
      },
      "text/plain": [
       "Validation: |          | 0/? [00:00<?, ?it/s]"
      ]
     },
     "metadata": {},
     "output_type": "display_data"
    },
    {
     "data": {
      "application/vnd.jupyter.widget-view+json": {
       "model_id": "3354c792f51d413782a42794961fc421",
       "version_major": 2,
       "version_minor": 0
      },
      "text/plain": [
       "Validation: |          | 0/? [00:00<?, ?it/s]"
      ]
     },
     "metadata": {},
     "output_type": "display_data"
    },
    {
     "data": {
      "application/vnd.jupyter.widget-view+json": {
       "model_id": "8e3121468c6349e39832be028165c7ea",
       "version_major": 2,
       "version_minor": 0
      },
      "text/plain": [
       "Validation: |          | 0/? [00:00<?, ?it/s]"
      ]
     },
     "metadata": {},
     "output_type": "display_data"
    },
    {
     "data": {
      "application/vnd.jupyter.widget-view+json": {
       "model_id": "8413c81ca81a4be48127309a8160605e",
       "version_major": 2,
       "version_minor": 0
      },
      "text/plain": [
       "Validation: |          | 0/? [00:00<?, ?it/s]"
      ]
     },
     "metadata": {},
     "output_type": "display_data"
    },
    {
     "data": {
      "application/vnd.jupyter.widget-view+json": {
       "model_id": "c274c9a165d04d19aadf401a0def51af",
       "version_major": 2,
       "version_minor": 0
      },
      "text/plain": [
       "Validation: |          | 0/? [00:00<?, ?it/s]"
      ]
     },
     "metadata": {},
     "output_type": "display_data"
    },
    {
     "data": {
      "application/vnd.jupyter.widget-view+json": {
       "model_id": "9518c58230e9465382859274537975d5",
       "version_major": 2,
       "version_minor": 0
      },
      "text/plain": [
       "Validation: |          | 0/? [00:00<?, ?it/s]"
      ]
     },
     "metadata": {},
     "output_type": "display_data"
    },
    {
     "data": {
      "application/vnd.jupyter.widget-view+json": {
       "model_id": "173cfa0eeba14d2a89ff061c2d8eaf88",
       "version_major": 2,
       "version_minor": 0
      },
      "text/plain": [
       "Validation: |          | 0/? [00:00<?, ?it/s]"
      ]
     },
     "metadata": {},
     "output_type": "display_data"
    },
    {
     "data": {
      "application/vnd.jupyter.widget-view+json": {
       "model_id": "17b23a9560ea4de793963e83bb616370",
       "version_major": 2,
       "version_minor": 0
      },
      "text/plain": [
       "Validation: |          | 0/? [00:00<?, ?it/s]"
      ]
     },
     "metadata": {},
     "output_type": "display_data"
    },
    {
     "data": {
      "application/vnd.jupyter.widget-view+json": {
       "model_id": "c829669287d0442488349eec942a3885",
       "version_major": 2,
       "version_minor": 0
      },
      "text/plain": [
       "Validation: |          | 0/? [00:00<?, ?it/s]"
      ]
     },
     "metadata": {},
     "output_type": "display_data"
    },
    {
     "data": {
      "application/vnd.jupyter.widget-view+json": {
       "model_id": "8b9b391402c047869b7db373f8423fcf",
       "version_major": 2,
       "version_minor": 0
      },
      "text/plain": [
       "Validation: |          | 0/? [00:00<?, ?it/s]"
      ]
     },
     "metadata": {},
     "output_type": "display_data"
    },
    {
     "data": {
      "application/vnd.jupyter.widget-view+json": {
       "model_id": "5f0e9eb597f14127b3f637172c13e32a",
       "version_major": 2,
       "version_minor": 0
      },
      "text/plain": [
       "Validation: |          | 0/? [00:00<?, ?it/s]"
      ]
     },
     "metadata": {},
     "output_type": "display_data"
    },
    {
     "data": {
      "application/vnd.jupyter.widget-view+json": {
       "model_id": "2b7c46c672e444afaab172a0774fcd5d",
       "version_major": 2,
       "version_minor": 0
      },
      "text/plain": [
       "Validation: |          | 0/? [00:00<?, ?it/s]"
      ]
     },
     "metadata": {},
     "output_type": "display_data"
    },
    {
     "data": {
      "application/vnd.jupyter.widget-view+json": {
       "model_id": "4dcc669c8f834191afb5e96acab2c2f1",
       "version_major": 2,
       "version_minor": 0
      },
      "text/plain": [
       "Validation: |          | 0/? [00:00<?, ?it/s]"
      ]
     },
     "metadata": {},
     "output_type": "display_data"
    },
    {
     "data": {
      "application/vnd.jupyter.widget-view+json": {
       "model_id": "48c425cfab614a44881bcb7533e44f6a",
       "version_major": 2,
       "version_minor": 0
      },
      "text/plain": [
       "Validation: |          | 0/? [00:00<?, ?it/s]"
      ]
     },
     "metadata": {},
     "output_type": "display_data"
    },
    {
     "data": {
      "application/vnd.jupyter.widget-view+json": {
       "model_id": "6b3087594dea4fea930e81f15b7db046",
       "version_major": 2,
       "version_minor": 0
      },
      "text/plain": [
       "Validation: |          | 0/? [00:00<?, ?it/s]"
      ]
     },
     "metadata": {},
     "output_type": "display_data"
    },
    {
     "data": {
      "application/vnd.jupyter.widget-view+json": {
       "model_id": "6f95294ee94243b69784296660cdc0d6",
       "version_major": 2,
       "version_minor": 0
      },
      "text/plain": [
       "Validation: |          | 0/? [00:00<?, ?it/s]"
      ]
     },
     "metadata": {},
     "output_type": "display_data"
    },
    {
     "data": {
      "application/vnd.jupyter.widget-view+json": {
       "model_id": "4fd0c9bdbd8948adbab195fe625dba4c",
       "version_major": 2,
       "version_minor": 0
      },
      "text/plain": [
       "Validation: |          | 0/? [00:00<?, ?it/s]"
      ]
     },
     "metadata": {},
     "output_type": "display_data"
    },
    {
     "data": {
      "application/vnd.jupyter.widget-view+json": {
       "model_id": "d600678e91d143509c85a17d39828559",
       "version_major": 2,
       "version_minor": 0
      },
      "text/plain": [
       "Validation: |          | 0/? [00:00<?, ?it/s]"
      ]
     },
     "metadata": {},
     "output_type": "display_data"
    },
    {
     "data": {
      "application/vnd.jupyter.widget-view+json": {
       "model_id": "087eb2fc958c439f858369d20b74ff46",
       "version_major": 2,
       "version_minor": 0
      },
      "text/plain": [
       "Validation: |          | 0/? [00:00<?, ?it/s]"
      ]
     },
     "metadata": {},
     "output_type": "display_data"
    },
    {
     "data": {
      "application/vnd.jupyter.widget-view+json": {
       "model_id": "2a44c7f1baea49be9c0b779e5189c0b3",
       "version_major": 2,
       "version_minor": 0
      },
      "text/plain": [
       "Validation: |          | 0/? [00:00<?, ?it/s]"
      ]
     },
     "metadata": {},
     "output_type": "display_data"
    },
    {
     "data": {
      "application/vnd.jupyter.widget-view+json": {
       "model_id": "a2dc907be4694a05a287500c410a28f3",
       "version_major": 2,
       "version_minor": 0
      },
      "text/plain": [
       "Validation: |          | 0/? [00:00<?, ?it/s]"
      ]
     },
     "metadata": {},
     "output_type": "display_data"
    },
    {
     "data": {
      "application/vnd.jupyter.widget-view+json": {
       "model_id": "27aab6e3f6264d7389db9bfc01009a24",
       "version_major": 2,
       "version_minor": 0
      },
      "text/plain": [
       "Validation: |          | 0/? [00:00<?, ?it/s]"
      ]
     },
     "metadata": {},
     "output_type": "display_data"
    },
    {
     "name": "stderr",
     "output_type": "stream",
     "text": [
      "`Trainer.fit` stopped: `max_epochs=30` reached.\n",
      "Restoring states from the checkpoint path at /code/Polynomial-NN/notebooks/lightning_logs/version_34/checkpoints/best-acc-epoch=29-val_acc=0.00.ckpt\n",
      "LOCAL_RANK: 0 - CUDA_VISIBLE_DEVICES: [0]\n",
      "Loaded model weights from the checkpoint at /code/Polynomial-NN/notebooks/lightning_logs/version_34/checkpoints/best-acc-epoch=29-val_acc=0.00.ckpt\n"
     ]
    },
    {
     "name": "stdout",
     "output_type": "stream",
     "text": [
      "Training completed!\n"
     ]
    },
    {
     "data": {
      "application/vnd.jupyter.widget-view+json": {
       "model_id": "9b4f7cf5f09647a0a642462349868196",
       "version_major": 2,
       "version_minor": 0
      },
      "text/plain": [
       "Validation: |          | 0/? [00:00<?, ?it/s]"
      ]
     },
     "metadata": {},
     "output_type": "display_data"
    },
    {
     "name": "stderr",
     "output_type": "stream",
     "text": [
      "Restoring states from the checkpoint path at /code/Polynomial-NN/notebooks/lightning_logs/version_34/checkpoints/best-acc-epoch=29-val_acc=0.00.ckpt\n"
     ]
    },
    {
     "name": "stdout",
     "output_type": "stream",
     "text": [
      "────────────────────────────────────────────────────────────────────────────────────────────────────────────────────────\n",
      "      Validate metric               DataLoader 0\n",
      "────────────────────────────────────────────────────────────────────────────────────────────────────────────────────────\n",
      "       val_acc_epoch             0.9082000255584717\n",
      "  val_boundary_loss_epoch       0.001312352018430829\n",
      "val_cross_entropy_loss_epoch     0.2775616943836212\n",
      "       val_loss_epoch            0.2775616943836212\n",
      "────────────────────────────────────────────────────────────────────────────────────────────────────────────────────────\n"
     ]
    },
    {
     "name": "stderr",
     "output_type": "stream",
     "text": [
      "LOCAL_RANK: 0 - CUDA_VISIBLE_DEVICES: [0]\n",
      "Loaded model weights from the checkpoint at /code/Polynomial-NN/notebooks/lightning_logs/version_34/checkpoints/best-acc-epoch=29-val_acc=0.00.ckpt\n"
     ]
    },
    {
     "data": {
      "application/vnd.jupyter.widget-view+json": {
       "model_id": "be4e394c42024fa6aa185e2724f69125",
       "version_major": 2,
       "version_minor": 0
      },
      "text/plain": [
       "Validation: |          | 0/? [00:00<?, ?it/s]"
      ]
     },
     "metadata": {},
     "output_type": "display_data"
    },
    {
     "name": "stdout",
     "output_type": "stream",
     "text": [
      "────────────────────────────────────────────────────────────────────────────────────────────────────────────────────────\n",
      "      Validate metric               DataLoader 0\n",
      "────────────────────────────────────────────────────────────────────────────────────────────────────────────────────────\n",
      "       val_acc_epoch             0.9032999873161316\n",
      "  val_boundary_loss_epoch       0.02821333333849907\n",
      "val_cross_entropy_loss_epoch     0.572454571723938\n",
      "       val_loss_epoch            0.572454571723938\n",
      "────────────────────────────────────────────────────────────────────────────────────────────────────────────────────────\n"
     ]
    }
   ],
   "source": [
    "\n",
    "from run_experiment import run_expriment\n",
    "import random\n",
    "import string\n",
    "\n",
    "\n",
    "\n",
    "# activation = 'relu'\n",
    "# enable_boundary_loss = False\n",
    "# disable_batchnorm_grad_clip_exclusion = True\n",
    "# lambda_penalty = -1\n",
    "# learnable_coeffs = False\n",
    "# gradient_clip_val = None\n",
    "\n",
    "\n",
    "activation = 'poly'\n",
    "enable_boundary_loss = True\n",
    "disable_batchnorm_grad_clip_exclusion = False\n",
    "lambda_penalty = 10\n",
    "gradient_clip_val = 1.0\n",
    "learnable_coeffs = True\n",
    "\n",
    "\n",
    "pol_degree = 8\n",
    "\n",
    "pol_degree_map = {\n",
    "    2:{\"B\": 12, \"penalty_B\": 12},\n",
    "    4:{\"B\": 20, \"penalty_B\": 20 * 0.75},\n",
    "    8:{\"B\": 35, \"penalty_B\": 35 * 0.5},\n",
    "    16:{\"B\": 40, \"penalty_B\": 40 * 0.5},\n",
    "    22:{\"B\": 47, \"penalty_B\": 47 * 0.5},\n",
    "}\n",
    "\n",
    "max_epoch = 30\n",
    "dropout = 0.0\n",
    "\n",
    "\n",
    "project_name = \"test\"\n",
    "num_classes = 10\n",
    "data_workers = 4\n",
    "model = \"resnet18\"\n",
    "dataset = {\"train\": train_set, \"val\": val_set, \"test\": test_set}\n",
    "\n",
    "run_id = \"test\"\n",
    "custom_tag = \"cifar10\"\n",
    "\n",
    "ori_activaiton = \"relu\"\n",
    "samp_size = 100\n",
    "learning_rate = 0.001\n",
    "\n",
    "B = pol_degree_map[pol_degree][\"B\"]\n",
    "penalty_B = pol_degree_map[pol_degree][\"penalty_B\"]\n",
    "boundary_loss_params = {'type': 'exp', 'penalty_B':  penalty_B, 'acc_norm': 'sum'}\n",
    "input_size = (3, 32, 32)\n",
    "\n",
    "\n",
    "\n",
    "optimizer_params = {\n",
    "        'type': 'adamw',\n",
    "        'lr': learning_rate,\n",
    "        'params': {\n",
    "        }\n",
    "}\n",
    "scheduler_params = {'type': 'reduce_on_plateau',\n",
    "                        'params': {\n",
    "                                'mode': 'min',\n",
    "                                'factor': 0.1,\n",
    "                                'patience': 5,\n",
    "                                'threshold': 0.1,\n",
    "                                'verbose': True\n",
    "                        },\n",
    "                        'monitor': 'val_acc_epoch'\n",
    "}\n",
    "\n",
    "actvation_params =  {\n",
    "        \"ori_activation\": ori_activaiton,\n",
    "        'B': B,\n",
    "        'samp_size': samp_size,\n",
    "        'pol_degree': pol_degree,\n",
    "        'learnable_coeffs': learnable_coeffs,\n",
    "        'initialization': \"least_square\",\n",
    "        'boundary_loss_params': boundary_loss_params\n",
    "\n",
    "    }\n",
    "model_params = {\n",
    "    \"use_singleton_activation\": False,\n",
    "    \"bn_before_act\": False,\n",
    "    \"activation\": activation,\n",
    "    \"dropout\": dropout,\n",
    "    \"num_classes\":num_classes,\n",
    "    \"actvation_params\": actvation_params,\n",
    "    \"model\":model,\n",
    "    \"input_size\": input_size\n",
    "}\n",
    "\n",
    "training_params = {\n",
    "    \"enable_boundary_loss\": enable_boundary_loss,\n",
    "    \"gradient_clip_val\": gradient_clip_val,\n",
    "    \"max_epoch\": max_epoch,\n",
    "    \"lambda_penalty\": lambda_penalty,\n",
    "    \"disable_batchnorm_grad_clip_exclusion\": disable_batchnorm_grad_clip_exclusion,\n",
    "    'optimizer_params': optimizer_params,\n",
    "    'scheduler_params': scheduler_params\n",
    "\n",
    "}\n",
    "\n",
    "dataset_params = {\n",
    "    \"data_workers\": data_workers,\n",
    "    \"dataset\": dataset,\n",
    "    \"batch_size\": 128\n",
    "}\n",
    "\n",
    "project_params = {\"run_id\": run_id,\n",
    "                  \"project_name\": project_name,\n",
    "                  \"custom_tag\": custom_tag\n",
    "                  }\n",
    "\n",
    "\n",
    "run_expriment(project_params=project_params, dataset_params=dataset_params,\n",
    "               model_params=model_params, training_params=training_params)\n",
    "\n",
    "\n",
    "#\n",
    "#       \\\n"
   ]
  }
 ],
 "metadata": {
  "kernelspec": {
   "display_name": "hfe",
   "language": "python",
   "name": "python3"
  },
  "language_info": {
   "codemirror_mode": {
    "name": "ipython",
    "version": 3
   },
   "file_extension": ".py",
   "mimetype": "text/x-python",
   "name": "python",
   "nbconvert_exporter": "python",
   "pygments_lexer": "ipython3",
   "version": "3.12.2"
  }
 },
 "nbformat": 4,
 "nbformat_minor": 2
}
